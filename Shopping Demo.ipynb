{
 "cells": [
  {
   "cell_type": "code",
   "execution_count": 1,
   "id": "077c270d",
   "metadata": {},
   "outputs": [],
   "source": [
    "import numpy as np\n",
    "import pandas as pd\n",
    "import  matplotlib.pyplot as plt"
   ]
  },
  {
   "cell_type": "code",
   "execution_count": 2,
   "id": "c0153bd5",
   "metadata": {},
   "outputs": [
    {
     "data": {
      "text/html": [
       "<div>\n",
       "<style scoped>\n",
       "    .dataframe tbody tr th:only-of-type {\n",
       "        vertical-align: middle;\n",
       "    }\n",
       "\n",
       "    .dataframe tbody tr th {\n",
       "        vertical-align: top;\n",
       "    }\n",
       "\n",
       "    .dataframe thead th {\n",
       "        text-align: right;\n",
       "    }\n",
       "</style>\n",
       "<table border=\"1\" class=\"dataframe\">\n",
       "  <thead>\n",
       "    <tr style=\"text-align: right;\">\n",
       "      <th></th>\n",
       "      <th>Day</th>\n",
       "      <th>Discount</th>\n",
       "      <th>Free Delivery</th>\n",
       "      <th>Buy</th>\n",
       "    </tr>\n",
       "  </thead>\n",
       "  <tbody>\n",
       "    <tr>\n",
       "      <th>0</th>\n",
       "      <td>Weekday</td>\n",
       "      <td>Yes</td>\n",
       "      <td>Yes</td>\n",
       "      <td>Yes</td>\n",
       "    </tr>\n",
       "    <tr>\n",
       "      <th>1</th>\n",
       "      <td>Weekday</td>\n",
       "      <td>Yes</td>\n",
       "      <td>Yes</td>\n",
       "      <td>Yes</td>\n",
       "    </tr>\n",
       "    <tr>\n",
       "      <th>2</th>\n",
       "      <td>Weekend</td>\n",
       "      <td>No</td>\n",
       "      <td>No</td>\n",
       "      <td>No</td>\n",
       "    </tr>\n",
       "    <tr>\n",
       "      <th>3</th>\n",
       "      <td>Holiday</td>\n",
       "      <td>Yes</td>\n",
       "      <td>Yes</td>\n",
       "      <td>Yes</td>\n",
       "    </tr>\n",
       "    <tr>\n",
       "      <th>4</th>\n",
       "      <td>Weekday</td>\n",
       "      <td>Yes</td>\n",
       "      <td>Yes</td>\n",
       "      <td>Yes</td>\n",
       "    </tr>\n",
       "  </tbody>\n",
       "</table>\n",
       "</div>"
      ],
      "text/plain": [
       "       Day Discount Free Delivery  Buy\n",
       "0  Weekday      Yes           Yes  Yes\n",
       "1  Weekday      Yes           Yes  Yes\n",
       "2  Weekend       No            No   No\n",
       "3  Holiday      Yes           Yes  Yes\n",
       "4  Weekday      Yes           Yes  Yes"
      ]
     },
     "execution_count": 2,
     "metadata": {},
     "output_type": "execute_result"
    }
   ],
   "source": [
    "data = pd.read_excel('E:datamining-master/shooping_demo.xls')\n",
    "data.head()"
   ]
  },
  {
   "cell_type": "code",
   "execution_count": 3,
   "id": "6acee504",
   "metadata": {},
   "outputs": [
    {
     "data": {
      "text/plain": [
       "(50, 4)"
      ]
     },
     "execution_count": 3,
     "metadata": {},
     "output_type": "execute_result"
    }
   ],
   "source": [
    "data.shape"
   ]
  },
  {
   "cell_type": "code",
   "execution_count": 5,
   "id": "33fbd2c9",
   "metadata": {},
   "outputs": [
    {
     "data": {
      "text/plain": [
       "Yes    41\n",
       "No      9\n",
       "Name: Buy, dtype: int64"
      ]
     },
     "execution_count": 5,
     "metadata": {},
     "output_type": "execute_result"
    }
   ],
   "source": [
    "data['Buy'].value_counts()"
   ]
  },
  {
   "cell_type": "code",
   "execution_count": 6,
   "id": "a2bebaea",
   "metadata": {},
   "outputs": [],
   "source": [
    "PYes = 41/50\n",
    "PNo = 9/50"
   ]
  },
  {
   "cell_type": "code",
   "execution_count": 7,
   "id": "dedefbcf",
   "metadata": {},
   "outputs": [
    {
     "name": "stdout",
     "output_type": "stream",
     "text": [
      "0.82\n"
     ]
    }
   ],
   "source": [
    "print(PYes)"
   ]
  },
  {
   "cell_type": "code",
   "execution_count": 8,
   "id": "ad02c32d",
   "metadata": {},
   "outputs": [
    {
     "name": "stdout",
     "output_type": "stream",
     "text": [
      "0.18\n"
     ]
    }
   ],
   "source": [
    "print(PNo)"
   ]
  },
  {
   "cell_type": "code",
   "execution_count": 9,
   "id": "b44bc2ac",
   "metadata": {},
   "outputs": [
    {
     "data": {
      "text/html": [
       "<div>\n",
       "<style scoped>\n",
       "    .dataframe tbody tr th:only-of-type {\n",
       "        vertical-align: middle;\n",
       "    }\n",
       "\n",
       "    .dataframe tbody tr th {\n",
       "        vertical-align: top;\n",
       "    }\n",
       "\n",
       "    .dataframe thead th {\n",
       "        text-align: right;\n",
       "    }\n",
       "</style>\n",
       "<table border=\"1\" class=\"dataframe\">\n",
       "  <thead>\n",
       "    <tr style=\"text-align: right;\">\n",
       "      <th>Buy</th>\n",
       "      <th>No</th>\n",
       "      <th>Yes</th>\n",
       "    </tr>\n",
       "    <tr>\n",
       "      <th>Day</th>\n",
       "      <th></th>\n",
       "      <th></th>\n",
       "    </tr>\n",
       "  </thead>\n",
       "  <tbody>\n",
       "    <tr>\n",
       "      <th>Holiday</th>\n",
       "      <td>6</td>\n",
       "      <td>18</td>\n",
       "    </tr>\n",
       "    <tr>\n",
       "      <th>Weekday</th>\n",
       "      <td>2</td>\n",
       "      <td>9</td>\n",
       "    </tr>\n",
       "    <tr>\n",
       "      <th>Weekend</th>\n",
       "      <td>1</td>\n",
       "      <td>14</td>\n",
       "    </tr>\n",
       "  </tbody>\n",
       "</table>\n",
       "</div>"
      ],
      "text/plain": [
       "Buy      No  Yes\n",
       "Day             \n",
       "Holiday   6   18\n",
       "Weekday   2    9\n",
       "Weekend   1   14"
      ]
     },
     "execution_count": 9,
     "metadata": {},
     "output_type": "execute_result"
    }
   ],
   "source": [
    "pd.crosstab(data['Day'], data['Buy'])"
   ]
  },
  {
   "cell_type": "code",
   "execution_count": 11,
   "id": "e6c41fa9",
   "metadata": {},
   "outputs": [
    {
     "name": "stdout",
     "output_type": "stream",
     "text": [
      "0.21951219512195122\n"
     ]
    }
   ],
   "source": [
    "PHolidayNo = 6/9\n",
    "PWeekdayNo = 2/9\n",
    "PWeekendNo = 1/9\n",
    "\n",
    "PHolidayYes = 18/41\n",
    "PWeekdayYes = 9/41\n",
    "PWeekendYes = 14/41\n",
    "\n",
    "PHoliday = 24/50\n",
    "PWeekday = 11/50\n",
    "PWeekend = 15/50\n",
    "\n",
    "print(PWeekdayYes)"
   ]
  },
  {
   "cell_type": "code",
   "execution_count": 12,
   "id": "4716fb9a",
   "metadata": {},
   "outputs": [
    {
     "name": "stdout",
     "output_type": "stream",
     "text": [
      "0.1818181818181818\n"
     ]
    }
   ],
   "source": [
    "PNoWeekday = (PWeekdayNo*PNo)/PWeekday\n",
    "print(PNoWeekday)"
   ]
  },
  {
   "cell_type": "code",
   "execution_count": 13,
   "id": "8fbccca1",
   "metadata": {},
   "outputs": [
    {
     "name": "stdout",
     "output_type": "stream",
     "text": [
      "0.8181818181818181\n"
     ]
    }
   ],
   "source": [
    "PYesWeekday = (PWeekdayYes*PYes)/PWeekday\n",
    "print(PYesWeekday)"
   ]
  },
  {
   "cell_type": "code",
   "execution_count": 14,
   "id": "63833322",
   "metadata": {},
   "outputs": [
    {
     "name": "stdout",
     "output_type": "stream",
     "text": [
      "0.1818181818181818\n",
      "0.8181818181818181\n"
     ]
    }
   ],
   "source": [
    "print(PNoWeekday)\n",
    "print(PYesWeekday)"
   ]
  },
  {
   "cell_type": "code",
   "execution_count": 15,
   "id": "94b462a0",
   "metadata": {},
   "outputs": [
    {
     "data": {
      "text/html": [
       "<div>\n",
       "<style scoped>\n",
       "    .dataframe tbody tr th:only-of-type {\n",
       "        vertical-align: middle;\n",
       "    }\n",
       "\n",
       "    .dataframe tbody tr th {\n",
       "        vertical-align: top;\n",
       "    }\n",
       "\n",
       "    .dataframe thead th {\n",
       "        text-align: right;\n",
       "    }\n",
       "</style>\n",
       "<table border=\"1\" class=\"dataframe\">\n",
       "  <thead>\n",
       "    <tr style=\"text-align: right;\">\n",
       "      <th>Buy</th>\n",
       "      <th>No</th>\n",
       "      <th>Yes</th>\n",
       "    </tr>\n",
       "    <tr>\n",
       "      <th>Discount</th>\n",
       "      <th></th>\n",
       "      <th></th>\n",
       "    </tr>\n",
       "  </thead>\n",
       "  <tbody>\n",
       "    <tr>\n",
       "      <th>No</th>\n",
       "      <td>5</td>\n",
       "      <td>12</td>\n",
       "    </tr>\n",
       "    <tr>\n",
       "      <th>Yes</th>\n",
       "      <td>4</td>\n",
       "      <td>29</td>\n",
       "    </tr>\n",
       "  </tbody>\n",
       "</table>\n",
       "</div>"
      ],
      "text/plain": [
       "Buy       No  Yes\n",
       "Discount         \n",
       "No         5   12\n",
       "Yes        4   29"
      ]
     },
     "execution_count": 15,
     "metadata": {},
     "output_type": "execute_result"
    }
   ],
   "source": [
    "pd.crosstab(data['Discount'], data['Buy'])"
   ]
  },
  {
   "cell_type": "code",
   "execution_count": 16,
   "id": "af4ec4a8",
   "metadata": {},
   "outputs": [],
   "source": [
    "PNoDiscountNo = 5/9\n",
    "PYesDiscountNo = 4/9\n",
    "\n",
    "PNoDiscountYes = 12/41\n",
    "PYesDiscountYes = 29/41\n",
    "\n",
    "PNoDiscount = 17/50\n",
    "PYesDiscount = 33/50"
   ]
  },
  {
   "cell_type": "code",
   "execution_count": 17,
   "id": "d5d828bf",
   "metadata": {},
   "outputs": [
    {
     "data": {
      "text/html": [
       "<div>\n",
       "<style scoped>\n",
       "    .dataframe tbody tr th:only-of-type {\n",
       "        vertical-align: middle;\n",
       "    }\n",
       "\n",
       "    .dataframe tbody tr th {\n",
       "        vertical-align: top;\n",
       "    }\n",
       "\n",
       "    .dataframe thead th {\n",
       "        text-align: right;\n",
       "    }\n",
       "</style>\n",
       "<table border=\"1\" class=\"dataframe\">\n",
       "  <thead>\n",
       "    <tr style=\"text-align: right;\">\n",
       "      <th>Buy</th>\n",
       "      <th>No</th>\n",
       "      <th>Yes</th>\n",
       "    </tr>\n",
       "    <tr>\n",
       "      <th>Free Delivery</th>\n",
       "      <th></th>\n",
       "      <th></th>\n",
       "    </tr>\n",
       "  </thead>\n",
       "  <tbody>\n",
       "    <tr>\n",
       "      <th>No</th>\n",
       "      <td>4</td>\n",
       "      <td>10</td>\n",
       "    </tr>\n",
       "    <tr>\n",
       "      <th>Yes</th>\n",
       "      <td>5</td>\n",
       "      <td>31</td>\n",
       "    </tr>\n",
       "  </tbody>\n",
       "</table>\n",
       "</div>"
      ],
      "text/plain": [
       "Buy            No  Yes\n",
       "Free Delivery         \n",
       "No              4   10\n",
       "Yes             5   31"
      ]
     },
     "execution_count": 17,
     "metadata": {},
     "output_type": "execute_result"
    }
   ],
   "source": [
    "pd.crosstab(data['Free Delivery'], data['Buy'])"
   ]
  },
  {
   "cell_type": "code",
   "execution_count": 18,
   "id": "246a82f6",
   "metadata": {},
   "outputs": [],
   "source": [
    "PNoDeliveryNo = 4/9\n",
    "PYesDeliveryNo = 5/9\n",
    "\n",
    "PNoDeliveryYes = 10/41\n",
    "PYesDeliveryYes = 31/41\n",
    "\n",
    "PNoDelivery = 14/50\n",
    "PYesDelivery = 36/50"
   ]
  },
  {
   "cell_type": "code",
   "execution_count": 19,
   "id": "b194a215",
   "metadata": {},
   "outputs": [
    {
     "name": "stdout",
     "output_type": "stream",
     "text": [
      "0.09352787130564906\n"
     ]
    }
   ],
   "source": [
    "PNoBuy1 = ((PHoliday*PYesDiscountNo*PYesDeliveryNo)*PNo)/(PHoliday*PYesDiscount*PYesDelivery)\n",
    "print(PNoBuy1)"
   ]
  },
  {
   "cell_type": "code",
   "execution_count": 20,
   "id": "f4ab9cd5",
   "metadata": {},
   "outputs": [
    {
     "name": "stdout",
     "output_type": "stream",
     "text": [
      "0.8440667832398943\n"
     ]
    }
   ],
   "source": [
    "PBuy2 = ((PHolidayYes*PYesDiscountYes*PYesDeliveryYes)*PYes)/(PHoliday*PYesDiscount*PYesDelivery)\n",
    "print(PBuy2)"
   ]
  },
  {
   "cell_type": "code",
   "execution_count": 21,
   "id": "bf16948b",
   "metadata": {},
   "outputs": [
    {
     "name": "stdout",
     "output_type": "stream",
     "text": [
      "0.9375946545455434\n"
     ]
    }
   ],
   "source": [
    "PSum = PNoBuy1+PBuy2\n",
    "print(PSum)"
   ]
  },
  {
   "cell_type": "code",
   "execution_count": 23,
   "id": "4602e922",
   "metadata": {},
   "outputs": [
    {
     "name": "stdout",
     "output_type": "stream",
     "text": [
      "90.02470088196242\n"
     ]
    }
   ],
   "source": [
    "PBuy = (PBuy2/PSum) *100\n",
    "print(PBuy)"
   ]
  },
  {
   "cell_type": "code",
   "execution_count": 24,
   "id": "9e4d779c",
   "metadata": {},
   "outputs": [
    {
     "name": "stdout",
     "output_type": "stream",
     "text": [
      "8.769123218720006\n"
     ]
    }
   ],
   "source": [
    "PNoBuy = (PNoBuy1*PSum) *100\n",
    "print(PNoBuy)"
   ]
  },
  {
   "cell_type": "code",
   "execution_count": null,
   "id": "f975a9df",
   "metadata": {},
   "outputs": [],
   "source": []
  }
 ],
 "metadata": {
  "kernelspec": {
   "display_name": "Python 3 (ipykernel)",
   "language": "python",
   "name": "python3"
  },
  "language_info": {
   "codemirror_mode": {
    "name": "ipython",
    "version": 3
   },
   "file_extension": ".py",
   "mimetype": "text/x-python",
   "name": "python",
   "nbconvert_exporter": "python",
   "pygments_lexer": "ipython3",
   "version": "3.9.7"
  }
 },
 "nbformat": 4,
 "nbformat_minor": 5
}
